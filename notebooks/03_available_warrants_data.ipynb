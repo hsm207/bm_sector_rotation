{
 "cells": [
  {
   "cell_type": "markdown",
   "id": "hearing-complexity",
   "metadata": {},
   "source": [
    "# Introduction"
   ]
  },
  {
   "cell_type": "markdown",
   "id": "western-boost",
   "metadata": {},
   "source": [
    "This notebook takes the monthly structured warrants report on Bursa Malaysia and applies some data wranggling to it:\n",
    "\n",
    "See the [bm_report_converter](https://github.com/hsm207/bm_report_converter) repo for details."
   ]
  },
  {
   "cell_type": "markdown",
   "id": "afraid-ability",
   "metadata": {},
   "source": [
    "# Libraries"
   ]
  },
  {
   "cell_type": "code",
   "execution_count": 1,
   "id": "ahead-terminal",
   "metadata": {},
   "outputs": [],
   "source": [
    "import pandas as pd\n",
    "from bfinance import Equity\n",
    "import time\n",
    "import numpy as np\n",
    "from tqdm import tqdm"
   ]
  },
  {
   "cell_type": "markdown",
   "id": "cathedral-joint",
   "metadata": {},
   "source": [
    "# Setup"
   ]
  },
  {
   "cell_type": "code",
   "execution_count": 2,
   "id": "affected-significance",
   "metadata": {},
   "outputs": [
    {
     "name": "stdout",
     "output_type": "stream",
     "text": [
      "/workspaces/bm_sector_rotation\n"
     ]
    }
   ],
   "source": [
    "%cd .."
   ]
  },
  {
   "cell_type": "markdown",
   "id": "mighty-midwest",
   "metadata": {},
   "source": [
    "Path to the monthly report:"
   ]
  },
  {
   "cell_type": "code",
   "execution_count": 3,
   "id": "based-tuning",
   "metadata": {},
   "outputs": [],
   "source": [
    "DATA_FILE = \"./data/2021-02_bm_monthly_sw.csv\""
   ]
  },
  {
   "cell_type": "markdown",
   "id": "loving-concentration",
   "metadata": {},
   "source": [
    "Path to save the results:"
   ]
  },
  {
   "cell_type": "code",
   "execution_count": 4,
   "id": "maritime-essence",
   "metadata": {},
   "outputs": [],
   "source": [
    "OUT_FILE = \"./data/2021-02_bm_monthly_sw_processed.feather\""
   ]
  },
  {
   "cell_type": "markdown",
   "id": "pressing-division",
   "metadata": {},
   "source": [
    "To enable tqdm with pandas:"
   ]
  },
  {
   "cell_type": "code",
   "execution_count": 5,
   "id": "controlling-defeat",
   "metadata": {},
   "outputs": [],
   "source": [
    "tqdm.pandas()"
   ]
  },
  {
   "cell_type": "markdown",
   "id": "activated-dependence",
   "metadata": {},
   "source": [
    "# Data"
   ]
  },
  {
   "cell_type": "code",
   "execution_count": 6,
   "id": "little-creativity",
   "metadata": {},
   "outputs": [
    {
     "data": {
      "text/html": [
       "<div>\n",
       "<style scoped>\n",
       "    .dataframe tbody tr th:only-of-type {\n",
       "        vertical-align: middle;\n",
       "    }\n",
       "\n",
       "    .dataframe tbody tr th {\n",
       "        vertical-align: top;\n",
       "    }\n",
       "\n",
       "    .dataframe thead th {\n",
       "        text-align: right;\n",
       "    }\n",
       "</style>\n",
       "<table border=\"1\" class=\"dataframe\">\n",
       "  <thead>\n",
       "    <tr style=\"text-align: right;\">\n",
       "      <th></th>\n",
       "      <th>No.</th>\n",
       "      <th>Stock Name</th>\n",
       "      <th>Security Type</th>\n",
       "      <th>No. of Warrants Outstanding</th>\n",
       "      <th>Maturity Date</th>\n",
       "      <th>Exercise Price</th>\n",
       "      <th>Conversion Ratio</th>\n",
       "      <th>Share per Warrant</th>\n",
       "      <th>Premium (Discount)</th>\n",
       "      <th>Gearing</th>\n",
       "    </tr>\n",
       "    <tr>\n",
       "      <th>Stock Code</th>\n",
       "      <th></th>\n",
       "      <th></th>\n",
       "      <th></th>\n",
       "      <th></th>\n",
       "      <th></th>\n",
       "      <th></th>\n",
       "      <th></th>\n",
       "      <th></th>\n",
       "      <th></th>\n",
       "      <th></th>\n",
       "    </tr>\n",
       "  </thead>\n",
       "  <tbody>\n",
       "    <tr>\n",
       "      <th>070364</th>\n",
       "      <td>1</td>\n",
       "      <td>A50CHIN-C64</td>\n",
       "      <td>Call WARRANTS</td>\n",
       "      <td>29000000</td>\n",
       "      <td>2021-03-31</td>\n",
       "      <td>HKD 20.000</td>\n",
       "      <td>1.5 for 1</td>\n",
       "      <td>0.67</td>\n",
       "      <td>NaN</td>\n",
       "      <td>NaN</td>\n",
       "    </tr>\n",
       "    <tr>\n",
       "      <th>070366</th>\n",
       "      <td>2</td>\n",
       "      <td>A50CHIN-C66</td>\n",
       "      <td>Call WARRANTS</td>\n",
       "      <td>24000000</td>\n",
       "      <td>2021-03-31</td>\n",
       "      <td>HKD 18.500</td>\n",
       "      <td>1.5 for 1</td>\n",
       "      <td>0.67</td>\n",
       "      <td>NaN</td>\n",
       "      <td>NaN</td>\n",
       "    </tr>\n",
       "    <tr>\n",
       "      <th>070368</th>\n",
       "      <td>3</td>\n",
       "      <td>A50CHIN-C68</td>\n",
       "      <td>Call WARRANTS</td>\n",
       "      <td>26000000</td>\n",
       "      <td>2021-06-30</td>\n",
       "      <td>HKD 21.500</td>\n",
       "      <td>1.5 for 1</td>\n",
       "      <td>0.67</td>\n",
       "      <td>NaN</td>\n",
       "      <td>NaN</td>\n",
       "    </tr>\n",
       "    <tr>\n",
       "      <th>070370</th>\n",
       "      <td>4</td>\n",
       "      <td>A50CHIN-C70</td>\n",
       "      <td>Call WARRANTS</td>\n",
       "      <td>28000000</td>\n",
       "      <td>2021-06-30</td>\n",
       "      <td>HKD 19.500</td>\n",
       "      <td>1.5 for 1</td>\n",
       "      <td>0.67</td>\n",
       "      <td>NaN</td>\n",
       "      <td>NaN</td>\n",
       "    </tr>\n",
       "    <tr>\n",
       "      <th>070372</th>\n",
       "      <td>5</td>\n",
       "      <td>A50CHIN-C72</td>\n",
       "      <td>Call WARRANTS</td>\n",
       "      <td>26000000</td>\n",
       "      <td>2021-09-30</td>\n",
       "      <td>HKD 28.000</td>\n",
       "      <td>2 for 1</td>\n",
       "      <td>0.50</td>\n",
       "      <td>NaN</td>\n",
       "      <td>NaN</td>\n",
       "    </tr>\n",
       "    <tr>\n",
       "      <th>070374</th>\n",
       "      <td>6</td>\n",
       "      <td>A50CHIN-C74</td>\n",
       "      <td>Call WARRANTS</td>\n",
       "      <td>30000000</td>\n",
       "      <td>2021-09-30</td>\n",
       "      <td>HKD 25.000</td>\n",
       "      <td>2 for 1</td>\n",
       "      <td>0.50</td>\n",
       "      <td>NaN</td>\n",
       "      <td>NaN</td>\n",
       "    </tr>\n",
       "    <tr>\n",
       "      <th>070349</th>\n",
       "      <td>7</td>\n",
       "      <td>A50CHIN-H49     #</td>\n",
       "      <td>PUT WARRANTS</td>\n",
       "      <td>32000000</td>\n",
       "      <td>2021-03-31</td>\n",
       "      <td>HKD 18.000</td>\n",
       "      <td>1.5 for 1</td>\n",
       "      <td>0.67</td>\n",
       "      <td>NaN</td>\n",
       "      <td>NaN</td>\n",
       "    </tr>\n",
       "    <tr>\n",
       "      <th>070351</th>\n",
       "      <td>8</td>\n",
       "      <td>A50CHIN-H51     #</td>\n",
       "      <td>PUT WARRANTS</td>\n",
       "      <td>30000000</td>\n",
       "      <td>2021-03-31</td>\n",
       "      <td>HKD 14.500</td>\n",
       "      <td>1.5 for 1</td>\n",
       "      <td>0.67</td>\n",
       "      <td>NaN</td>\n",
       "      <td>NaN</td>\n",
       "    </tr>\n",
       "    <tr>\n",
       "      <th>070353</th>\n",
       "      <td>9</td>\n",
       "      <td>A50CHIN-H53     #</td>\n",
       "      <td>PUT WARRANTS</td>\n",
       "      <td>33000000</td>\n",
       "      <td>2021-06-30</td>\n",
       "      <td>HKD 17.000</td>\n",
       "      <td>1.5 for 1</td>\n",
       "      <td>0.67</td>\n",
       "      <td>NaN</td>\n",
       "      <td>NaN</td>\n",
       "    </tr>\n",
       "    <tr>\n",
       "      <th>070355</th>\n",
       "      <td>10</td>\n",
       "      <td>A50CHIN-H55     #</td>\n",
       "      <td>PUT WARRANTS</td>\n",
       "      <td>29000000</td>\n",
       "      <td>2021-06-30</td>\n",
       "      <td>HKD 19.000</td>\n",
       "      <td>1.5 for 1</td>\n",
       "      <td>0.67</td>\n",
       "      <td>NaN</td>\n",
       "      <td>NaN</td>\n",
       "    </tr>\n",
       "  </tbody>\n",
       "</table>\n",
       "</div>"
      ],
      "text/plain": [
       "            No.         Stock Name  Security Type  \\\n",
       "Stock Code                                          \n",
       "070364        1        A50CHIN-C64  Call WARRANTS   \n",
       "070366        2        A50CHIN-C66  Call WARRANTS   \n",
       "070368        3        A50CHIN-C68  Call WARRANTS   \n",
       "070370        4        A50CHIN-C70  Call WARRANTS   \n",
       "070372        5        A50CHIN-C72  Call WARRANTS   \n",
       "070374        6        A50CHIN-C74  Call WARRANTS   \n",
       "070349        7  A50CHIN-H49     #   PUT WARRANTS   \n",
       "070351        8  A50CHIN-H51     #   PUT WARRANTS   \n",
       "070353        9  A50CHIN-H53     #   PUT WARRANTS   \n",
       "070355       10  A50CHIN-H55     #   PUT WARRANTS   \n",
       "\n",
       "            No. of Warrants Outstanding Maturity Date Exercise Price  \\\n",
       "Stock Code                                                             \n",
       "070364                         29000000    2021-03-31     HKD 20.000   \n",
       "070366                         24000000    2021-03-31     HKD 18.500   \n",
       "070368                         26000000    2021-06-30     HKD 21.500   \n",
       "070370                         28000000    2021-06-30     HKD 19.500   \n",
       "070372                         26000000    2021-09-30     HKD 28.000   \n",
       "070374                         30000000    2021-09-30     HKD 25.000   \n",
       "070349                         32000000    2021-03-31     HKD 18.000   \n",
       "070351                         30000000    2021-03-31     HKD 14.500   \n",
       "070353                         33000000    2021-06-30     HKD 17.000   \n",
       "070355                         29000000    2021-06-30     HKD 19.000   \n",
       "\n",
       "           Conversion Ratio  Share per Warrant Premium (Discount)  Gearing  \n",
       "Stock Code                                                                  \n",
       "070364            1.5 for 1               0.67                NaN      NaN  \n",
       "070366            1.5 for 1               0.67                NaN      NaN  \n",
       "070368            1.5 for 1               0.67                NaN      NaN  \n",
       "070370            1.5 for 1               0.67                NaN      NaN  \n",
       "070372              2 for 1               0.50                NaN      NaN  \n",
       "070374              2 for 1               0.50                NaN      NaN  \n",
       "070349            1.5 for 1               0.67                NaN      NaN  \n",
       "070351            1.5 for 1               0.67                NaN      NaN  \n",
       "070353            1.5 for 1               0.67                NaN      NaN  \n",
       "070355            1.5 for 1               0.67                NaN      NaN  "
      ]
     },
     "execution_count": 6,
     "metadata": {},
     "output_type": "execute_result"
    }
   ],
   "source": [
    "column_names = [\"No.\", \n",
    "                \"Stock Code\", \n",
    "                \"Stock Name\", \n",
    "                \"Security Type\", \n",
    "                \"No. of Warrants Outstanding\", \n",
    "                \"Maturity Date\", \n",
    "                \"Exercise Price\", \n",
    "                \"Conversion Ratio\", \n",
    "                \"Share per Warrant\", \n",
    "                \"Premium (Discount)\", \n",
    "                \"Gearing\",\n",
    "                \"dummy\"]\n",
    "\n",
    "df = pd.read_csv(DATA_FILE, \n",
    "                 header = 0,\n",
    "                 names = column_names,\n",
    "                 index_col = \"Stock Code\",\n",
    "                 usecols = lambda x: x != 'dummy',\n",
    "                 na_values = '-',\n",
    "                 thousands = ',',\n",
    "                 parse_dates = [\"Maturity Date\"],\n",
    "                 infer_datetime_format = False,\n",
    "                 date_parser = lambda x: pd.to_datetime(x, format = \"%d/%m/%Y\"),\n",
    "                 dtype = {\n",
    "                     'Gearing': 'float'\n",
    "                 })\n",
    "\n",
    "df.head(10)"
   ]
  },
  {
   "cell_type": "markdown",
   "id": "indian-allergy",
   "metadata": {},
   "source": [
    "# Sanity Checks"
   ]
  },
  {
   "cell_type": "markdown",
   "id": "massive-field",
   "metadata": {},
   "source": [
    "Check that conversion from pdf has extracted all the warrants by looking at the sequence of the `No.` column:"
   ]
  },
  {
   "cell_type": "code",
   "execution_count": 7,
   "id": "concrete-contractor",
   "metadata": {},
   "outputs": [],
   "source": [
    "assert df[\"No.\"].diff().dropna().sum() == df.shape[0] - 1"
   ]
  },
  {
   "cell_type": "markdown",
   "id": "violent-canal",
   "metadata": {},
   "source": [
    "# Feature Engineering"
   ]
  },
  {
   "cell_type": "markdown",
   "id": "welcome-monroe",
   "metadata": {},
   "source": [
    "Add some useful features for later analysis."
   ]
  },
  {
   "cell_type": "markdown",
   "id": "talented-surfing",
   "metadata": {},
   "source": [
    "## Days to Expiry"
   ]
  },
  {
   "cell_type": "markdown",
   "id": "creative-turning",
   "metadata": {},
   "source": [
    "Calculate how many days to expiry and ignore warrants with less than 60 days to expiry:"
   ]
  },
  {
   "cell_type": "code",
   "execution_count": 8,
   "id": "boxed-radiation",
   "metadata": {},
   "outputs": [
    {
     "name": "stdout",
     "output_type": "stream",
     "text": [
      "There are 578 warrants with more than 60 days to expiry\n"
     ]
    }
   ],
   "source": [
    "current_date = pd.Timestamp(pd.Timestamp.now().date())\n",
    "\n",
    "df[\"time_to_expiry\"] = df[\"Maturity Date\"] - current_date\n",
    "df = df.query('time_to_expiry > @pd.Timedelta(60, \"day\")')\n",
    "\n",
    "num_warrants, _ = df.shape\n",
    "print(f\"There are {num_warrants:d} warrants with more than 60 days to expiry\")"
   ]
  },
  {
   "cell_type": "markdown",
   "id": "parliamentary-flood",
   "metadata": {},
   "source": [
    "## Warrant Type"
   ]
  },
  {
   "cell_type": "markdown",
   "id": "deluxe-trouble",
   "metadata": {},
   "source": [
    "Simplify warrant type i.e. call or put:"
   ]
  },
  {
   "cell_type": "code",
   "execution_count": 9,
   "id": "closed-burton",
   "metadata": {},
   "outputs": [],
   "source": [
    "df.loc[:, \"Security Type\"] = df[\"Security Type\"].str.split(' ').str[0].str.lower()"
   ]
  },
  {
   "cell_type": "code",
   "execution_count": 10,
   "id": "driving-jackson",
   "metadata": {},
   "outputs": [
    {
     "data": {
      "text/html": [
       "<div>\n",
       "<style scoped>\n",
       "    .dataframe tbody tr th:only-of-type {\n",
       "        vertical-align: middle;\n",
       "    }\n",
       "\n",
       "    .dataframe tbody tr th {\n",
       "        vertical-align: top;\n",
       "    }\n",
       "\n",
       "    .dataframe thead th {\n",
       "        text-align: right;\n",
       "    }\n",
       "</style>\n",
       "<table border=\"1\" class=\"dataframe\">\n",
       "  <thead>\n",
       "    <tr style=\"text-align: right;\">\n",
       "      <th></th>\n",
       "      <th>No.</th>\n",
       "      <th>Stock Name</th>\n",
       "      <th>Security Type</th>\n",
       "      <th>No. of Warrants Outstanding</th>\n",
       "      <th>Maturity Date</th>\n",
       "      <th>Exercise Price</th>\n",
       "      <th>Conversion Ratio</th>\n",
       "      <th>Share per Warrant</th>\n",
       "      <th>Premium (Discount)</th>\n",
       "      <th>Gearing</th>\n",
       "      <th>time_to_expiry</th>\n",
       "    </tr>\n",
       "    <tr>\n",
       "      <th>Stock Code</th>\n",
       "      <th></th>\n",
       "      <th></th>\n",
       "      <th></th>\n",
       "      <th></th>\n",
       "      <th></th>\n",
       "      <th></th>\n",
       "      <th></th>\n",
       "      <th></th>\n",
       "      <th></th>\n",
       "      <th></th>\n",
       "      <th></th>\n",
       "    </tr>\n",
       "  </thead>\n",
       "  <tbody>\n",
       "    <tr>\n",
       "      <th>9059CN</th>\n",
       "      <td>911</td>\n",
       "      <td>TSH-CN</td>\n",
       "      <td>call</td>\n",
       "      <td>35000000</td>\n",
       "      <td>2021-09-06</td>\n",
       "      <td>1.300</td>\n",
       "      <td>2 for 1</td>\n",
       "      <td>0.50</td>\n",
       "      <td>38.68%</td>\n",
       "      <td>6.24</td>\n",
       "      <td>161 days</td>\n",
       "    </tr>\n",
       "    <tr>\n",
       "      <th>521633</th>\n",
       "      <td>198</td>\n",
       "      <td>DSONIC-C33</td>\n",
       "      <td>call</td>\n",
       "      <td>78000000</td>\n",
       "      <td>2021-06-11</td>\n",
       "      <td>0.600</td>\n",
       "      <td>2.5 for 1</td>\n",
       "      <td>0.40</td>\n",
       "      <td>31.07%</td>\n",
       "      <td>6.87</td>\n",
       "      <td>74 days</td>\n",
       "    </tr>\n",
       "    <tr>\n",
       "      <th>0651FR</th>\n",
       "      <td>406</td>\n",
       "      <td>HSI-CFR</td>\n",
       "      <td>call</td>\n",
       "      <td>44000000</td>\n",
       "      <td>2021-07-29</td>\n",
       "      <td>27600.000</td>\n",
       "      <td>1200 for 1</td>\n",
       "      <td>0.00</td>\n",
       "      <td>NaN</td>\n",
       "      <td>NaN</td>\n",
       "      <td>122 days</td>\n",
       "    </tr>\n",
       "    <tr>\n",
       "      <th>522522</th>\n",
       "      <td>451</td>\n",
       "      <td>IHH-C22</td>\n",
       "      <td>call</td>\n",
       "      <td>150000000</td>\n",
       "      <td>2021-08-30</td>\n",
       "      <td>5.150</td>\n",
       "      <td>5 for 1</td>\n",
       "      <td>0.20</td>\n",
       "      <td>9.25%</td>\n",
       "      <td>12.70</td>\n",
       "      <td>154 days</td>\n",
       "    </tr>\n",
       "    <tr>\n",
       "      <th>7084CT</th>\n",
       "      <td>713</td>\n",
       "      <td>QL-CT</td>\n",
       "      <td>call</td>\n",
       "      <td>35000000</td>\n",
       "      <td>2021-05-31</td>\n",
       "      <td>6.667</td>\n",
       "      <td>8 for 1</td>\n",
       "      <td>0.13</td>\n",
       "      <td>25.97%</td>\n",
       "      <td>5.69</td>\n",
       "      <td>63 days</td>\n",
       "    </tr>\n",
       "    <tr>\n",
       "      <th>6633CX</th>\n",
       "      <td>525</td>\n",
       "      <td>LHI-CX</td>\n",
       "      <td>call</td>\n",
       "      <td>100000000</td>\n",
       "      <td>2021-11-30</td>\n",
       "      <td>0.750</td>\n",
       "      <td>2 for 1</td>\n",
       "      <td>0.50</td>\n",
       "      <td>28.57%</td>\n",
       "      <td>4.67</td>\n",
       "      <td>246 days</td>\n",
       "    </tr>\n",
       "    <tr>\n",
       "      <th>858333</th>\n",
       "      <td>539</td>\n",
       "      <td>MAHSING-C33</td>\n",
       "      <td>call</td>\n",
       "      <td>80000000</td>\n",
       "      <td>2021-10-21</td>\n",
       "      <td>1.050</td>\n",
       "      <td>5 for 1</td>\n",
       "      <td>0.20</td>\n",
       "      <td>58.23%</td>\n",
       "      <td>3.95</td>\n",
       "      <td>206 days</td>\n",
       "    </tr>\n",
       "    <tr>\n",
       "      <th>0650AT</th>\n",
       "      <td>248</td>\n",
       "      <td>FBMKLCI-HAT     #</td>\n",
       "      <td>put</td>\n",
       "      <td>100000000</td>\n",
       "      <td>2021-07-30</td>\n",
       "      <td>1470.000</td>\n",
       "      <td>1000 for 1</td>\n",
       "      <td>0.00</td>\n",
       "      <td>NaN</td>\n",
       "      <td>NaN</td>\n",
       "      <td>123 days</td>\n",
       "    </tr>\n",
       "    <tr>\n",
       "      <th>0651FE</th>\n",
       "      <td>393</td>\n",
       "      <td>HSI-CFE</td>\n",
       "      <td>call</td>\n",
       "      <td>150000000</td>\n",
       "      <td>2021-05-31</td>\n",
       "      <td>25700.000</td>\n",
       "      <td>3500 for 1</td>\n",
       "      <td>0.00</td>\n",
       "      <td>NaN</td>\n",
       "      <td>NaN</td>\n",
       "      <td>63 days</td>\n",
       "    </tr>\n",
       "    <tr>\n",
       "      <th>0651FW</th>\n",
       "      <td>411</td>\n",
       "      <td>HSI-CFW</td>\n",
       "      <td>call</td>\n",
       "      <td>38000000</td>\n",
       "      <td>2021-08-30</td>\n",
       "      <td>30400.000</td>\n",
       "      <td>1200 for 1</td>\n",
       "      <td>0.00</td>\n",
       "      <td>NaN</td>\n",
       "      <td>NaN</td>\n",
       "      <td>154 days</td>\n",
       "    </tr>\n",
       "  </tbody>\n",
       "</table>\n",
       "</div>"
      ],
      "text/plain": [
       "            No.         Stock Name Security Type  No. of Warrants Outstanding  \\\n",
       "Stock Code                                                                      \n",
       "9059CN      911             TSH-CN          call                     35000000   \n",
       "521633      198         DSONIC-C33          call                     78000000   \n",
       "0651FR      406            HSI-CFR          call                     44000000   \n",
       "522522      451            IHH-C22          call                    150000000   \n",
       "7084CT      713              QL-CT          call                     35000000   \n",
       "6633CX      525             LHI-CX          call                    100000000   \n",
       "858333      539        MAHSING-C33          call                     80000000   \n",
       "0650AT      248  FBMKLCI-HAT     #           put                    100000000   \n",
       "0651FE      393            HSI-CFE          call                    150000000   \n",
       "0651FW      411            HSI-CFW          call                     38000000   \n",
       "\n",
       "           Maturity Date Exercise Price Conversion Ratio  Share per Warrant  \\\n",
       "Stock Code                                                                    \n",
       "9059CN        2021-09-06          1.300          2 for 1               0.50   \n",
       "521633        2021-06-11          0.600        2.5 for 1               0.40   \n",
       "0651FR        2021-07-29      27600.000       1200 for 1               0.00   \n",
       "522522        2021-08-30          5.150          5 for 1               0.20   \n",
       "7084CT        2021-05-31          6.667          8 for 1               0.13   \n",
       "6633CX        2021-11-30          0.750          2 for 1               0.50   \n",
       "858333        2021-10-21          1.050          5 for 1               0.20   \n",
       "0650AT        2021-07-30       1470.000       1000 for 1               0.00   \n",
       "0651FE        2021-05-31      25700.000       3500 for 1               0.00   \n",
       "0651FW        2021-08-30      30400.000       1200 for 1               0.00   \n",
       "\n",
       "           Premium (Discount)  Gearing time_to_expiry  \n",
       "Stock Code                                             \n",
       "9059CN                 38.68%     6.24       161 days  \n",
       "521633                 31.07%     6.87        74 days  \n",
       "0651FR                    NaN      NaN       122 days  \n",
       "522522                  9.25%    12.70       154 days  \n",
       "7084CT                 25.97%     5.69        63 days  \n",
       "6633CX                 28.57%     4.67       246 days  \n",
       "858333                 58.23%     3.95       206 days  \n",
       "0650AT                    NaN      NaN       123 days  \n",
       "0651FE                    NaN      NaN        63 days  \n",
       "0651FW                    NaN      NaN       154 days  "
      ]
     },
     "execution_count": 10,
     "metadata": {},
     "output_type": "execute_result"
    }
   ],
   "source": [
    "df.sample(n = 10)"
   ]
  },
  {
   "cell_type": "markdown",
   "id": "hearing-powder",
   "metadata": {},
   "source": [
    "## Warrant Profile"
   ]
  },
  {
   "cell_type": "markdown",
   "id": "positive-bubble",
   "metadata": {},
   "source": [
    "Get the profile of each warrant:"
   ]
  },
  {
   "cell_type": "code",
   "execution_count": 11,
   "id": "unavailable-meaning",
   "metadata": {},
   "outputs": [],
   "source": [
    "import traceback\n",
    "\n",
    "def random_sleep():\n",
    "    secs = np.random.randint(2, 10)\n",
    "    time.sleep(secs)\n",
    "    \n",
    "def get_profile(stock_code):\n",
    "    try:\n",
    "        random_sleep()\n",
    "        return Equity(stock_code).instrument_profile\n",
    "    except Exception as e:\n",
    "        print(f\"Failed to process {stock_code}!\")\n",
    "        traceback.print_exc()"
   ]
  },
  {
   "cell_type": "code",
   "execution_count": null,
   "id": "spatial-world",
   "metadata": {
    "tags": []
   },
   "outputs": [
    {
     "name": "stderr",
     "output_type": "stream",
     "text": [
      " 37%|███▋      | 216/578 [21:46<40:22,  6.69s/it]  "
     ]
    }
   ],
   "source": [
    "%%time\n",
    "warrant_profiles = df.index.to_series().progress_apply(get_profile).to_list()\n",
    "warrant_profiles = pd.DataFrame(warrant_profiles, index = df.index)\n",
    "\n",
    "df = df.join(warrant_profiles)\n",
    "df.sample(n = 10)"
   ]
  },
  {
   "cell_type": "markdown",
   "id": "legal-wiring",
   "metadata": {},
   "source": [
    "# Save Results "
   ]
  },
  {
   "cell_type": "markdown",
   "id": "vulnerable-supplement",
   "metadata": {},
   "source": [
    "Save the file:"
   ]
  },
  {
   "cell_type": "code",
   "execution_count": null,
   "id": "spread-martin",
   "metadata": {},
   "outputs": [],
   "source": [
    "df.reset_index().to_feather(OUT_FILE)"
   ]
  },
  {
   "cell_type": "markdown",
   "id": "incomplete-hollywood",
   "metadata": {},
   "source": [
    "Re-read just to be sure:"
   ]
  },
  {
   "cell_type": "code",
   "execution_count": null,
   "id": "funded-cannon",
   "metadata": {},
   "outputs": [],
   "source": [
    "pd.read_feather(OUT_FILE)\\\n",
    "    .set_index(\"Stock Code\")\\\n",
    "    .sample(n=10)"
   ]
  }
 ],
 "metadata": {
  "kernelspec": {
   "display_name": "Python 3",
   "language": "python",
   "name": "python3"
  },
  "language_info": {
   "codemirror_mode": {
    "name": "ipython",
    "version": 3
   },
   "file_extension": ".py",
   "mimetype": "text/x-python",
   "name": "python",
   "nbconvert_exporter": "python",
   "pygments_lexer": "ipython3",
   "version": "3.9.2"
  }
 },
 "nbformat": 4,
 "nbformat_minor": 5
}
