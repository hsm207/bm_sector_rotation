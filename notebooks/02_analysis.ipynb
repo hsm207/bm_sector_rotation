{
 "cells": [
  {
   "cell_type": "markdown",
   "id": "sexual-camcorder",
   "metadata": {},
   "source": [
    "# Introduction\n",
    "\n",
    "Analyze the annual returns in each sector"
   ]
  },
  {
   "cell_type": "markdown",
   "id": "charming-senator",
   "metadata": {},
   "source": [
    "# Setup"
   ]
  },
  {
   "cell_type": "code",
   "execution_count": 1,
   "id": "formed-atmosphere",
   "metadata": {},
   "outputs": [
    {
     "name": "stdout",
     "output_type": "stream",
     "text": [
      "/workspaces/bm_sector_rotation\n"
     ]
    }
   ],
   "source": [
    "%cd .."
   ]
  },
  {
   "cell_type": "markdown",
   "id": "arctic-paraguay",
   "metadata": {},
   "source": [
    "# Libraries"
   ]
  },
  {
   "cell_type": "code",
   "execution_count": 2,
   "id": "consecutive-carrier",
   "metadata": {},
   "outputs": [],
   "source": [
    "import pandas as pd\n",
    "from pathlib import Path"
   ]
  },
  {
   "cell_type": "markdown",
   "id": "perfect-robert",
   "metadata": {},
   "source": [
    "# Data"
   ]
  },
  {
   "cell_type": "code",
   "execution_count": 3,
   "id": "heated-asset",
   "metadata": {},
   "outputs": [
    {
     "data": {
      "text/plain": [
       "14"
      ]
     },
     "execution_count": 3,
     "metadata": {},
     "output_type": "execute_result"
    }
   ],
   "source": [
    "p = Path('./data')\n",
    "dfs = [pd.read_parquet(f) for f in p.glob('*.parquet')]\n",
    "len(dfs)"
   ]
  },
  {
   "cell_type": "markdown",
   "id": "formal-pavilion",
   "metadata": {},
   "source": [
    "# Analysis"
   ]
  },
  {
   "cell_type": "code",
   "execution_count": 4,
   "id": "dominant-million",
   "metadata": {},
   "outputs": [],
   "source": [
    "def extract_index(index_name):\n",
    "    return [df for df in dfs if df['name'][0] == index_name][0]"
   ]
  },
  {
   "cell_type": "code",
   "execution_count": 5,
   "id": "bridal-mills",
   "metadata": {},
   "outputs": [],
   "source": [
    "def calculate_annual_index_return(data):\n",
    "    index_name = data['name'][0]\n",
    "    df = data.groupby(by=data.index.year).agg({'close': ['min', 'max', 'idxmin', 'idxmax']})\n",
    "    df[index_name] = (df[('close', 'max')]/df[('close', 'min')] - 1) * 100\n",
    "    df[index_name] = df[index_name].round(2)\n",
    "\n",
    "    max_is_later_than_min = df[('close', 'idxmax')] - df[('close', 'idxmin')] > pd.Timedelta('0 days')\n",
    "    df.loc[~ max_is_later_than_min, index_name] = -1 * df.loc[~ max_is_later_than_min, index_name]\n",
    "\n",
    "    return df[[index_name]]"
   ]
  },
  {
   "cell_type": "code",
   "execution_count": 6,
   "id": "sitting-shopping",
   "metadata": {},
   "outputs": [
    {
     "data": {
      "text/html": [
       "<div>\n",
       "<style scoped>\n",
       "    .dataframe tbody tr th:only-of-type {\n",
       "        vertical-align: middle;\n",
       "    }\n",
       "\n",
       "    .dataframe tbody tr th {\n",
       "        vertical-align: top;\n",
       "    }\n",
       "\n",
       "    .dataframe thead th {\n",
       "        text-align: right;\n",
       "    }\n",
       "</style>\n",
       "<table border=\"1\" class=\"dataframe\">\n",
       "  <thead>\n",
       "    <tr style=\"text-align: right;\">\n",
       "      <th></th>\n",
       "      <th>date</th>\n",
       "      <th>2016</th>\n",
       "      <th>2017</th>\n",
       "      <th>2018</th>\n",
       "      <th>2019</th>\n",
       "      <th>2020</th>\n",
       "      <th>2021</th>\n",
       "    </tr>\n",
       "  </thead>\n",
       "  <tbody>\n",
       "    <tr>\n",
       "      <th>CONSTRUCTION</th>\n",
       "      <th></th>\n",
       "      <td>9.36</td>\n",
       "      <td>20.15</td>\n",
       "      <td>-121.49</td>\n",
       "      <td>47.40</td>\n",
       "      <td>-74.35</td>\n",
       "      <td>-11.99</td>\n",
       "    </tr>\n",
       "    <tr>\n",
       "      <th>CONSUMER PRODUCTS &amp; SERVICES</th>\n",
       "      <th></th>\n",
       "      <td>-7.98</td>\n",
       "      <td>12.28</td>\n",
       "      <td>-17.22</td>\n",
       "      <td>-11.01</td>\n",
       "      <td>-41.12</td>\n",
       "      <td>7.06</td>\n",
       "    </tr>\n",
       "    <tr>\n",
       "      <th>ENERGY</th>\n",
       "      <th></th>\n",
       "      <td>NaN</td>\n",
       "      <td>NaN</td>\n",
       "      <td>-49.93</td>\n",
       "      <td>55.33</td>\n",
       "      <td>-151.34</td>\n",
       "      <td>22.80</td>\n",
       "    </tr>\n",
       "    <tr>\n",
       "      <th>FBMKLCI</th>\n",
       "      <th></th>\n",
       "      <td>-7.00</td>\n",
       "      <td>9.86</td>\n",
       "      <td>-15.89</td>\n",
       "      <td>-11.57</td>\n",
       "      <td>38.11</td>\n",
       "      <td>-5.08</td>\n",
       "    </tr>\n",
       "    <tr>\n",
       "      <th>FINANCIAL SERVICES</th>\n",
       "      <th></th>\n",
       "      <td>-7.73</td>\n",
       "      <td>18.19</td>\n",
       "      <td>-13.33</td>\n",
       "      <td>-19.72</td>\n",
       "      <td>47.41</td>\n",
       "      <td>-5.49</td>\n",
       "    </tr>\n",
       "    <tr>\n",
       "      <th>HEALTH CARE</th>\n",
       "      <th></th>\n",
       "      <td>NaN</td>\n",
       "      <td>NaN</td>\n",
       "      <td>7.83</td>\n",
       "      <td>-7.58</td>\n",
       "      <td>290.06</td>\n",
       "      <td>-17.17</td>\n",
       "    </tr>\n",
       "    <tr>\n",
       "      <th>INDUSTRIAL PRODUCTS &amp; SERVICES</th>\n",
       "      <th></th>\n",
       "      <td>-8.84</td>\n",
       "      <td>21.40</td>\n",
       "      <td>-13.88</td>\n",
       "      <td>-17.13</td>\n",
       "      <td>93.39</td>\n",
       "      <td>10.86</td>\n",
       "    </tr>\n",
       "    <tr>\n",
       "      <th>PLANTATION</th>\n",
       "      <th></th>\n",
       "      <td>-8.58</td>\n",
       "      <td>-5.98</td>\n",
       "      <td>-25.43</td>\n",
       "      <td>20.04</td>\n",
       "      <td>-41.18</td>\n",
       "      <td>-5.43</td>\n",
       "    </tr>\n",
       "    <tr>\n",
       "      <th>PROPERTY</th>\n",
       "      <th></th>\n",
       "      <td>-8.67</td>\n",
       "      <td>17.72</td>\n",
       "      <td>-44.75</td>\n",
       "      <td>-29.02</td>\n",
       "      <td>-67.95</td>\n",
       "      <td>-8.93</td>\n",
       "    </tr>\n",
       "    <tr>\n",
       "      <th>REIT</th>\n",
       "      <th></th>\n",
       "      <td>NaN</td>\n",
       "      <td>8.29</td>\n",
       "      <td>-15.53</td>\n",
       "      <td>9.66</td>\n",
       "      <td>-25.63</td>\n",
       "      <td>-4.85</td>\n",
       "    </tr>\n",
       "    <tr>\n",
       "      <th>TECHNOLOGY</th>\n",
       "      <th></th>\n",
       "      <td>13.95</td>\n",
       "      <td>89.36</td>\n",
       "      <td>-57.92</td>\n",
       "      <td>39.80</td>\n",
       "      <td>192.82</td>\n",
       "      <td>36.18</td>\n",
       "    </tr>\n",
       "    <tr>\n",
       "      <th>TELECOMMUNICATIONS &amp; MEDIA</th>\n",
       "      <th></th>\n",
       "      <td>NaN</td>\n",
       "      <td>NaN</td>\n",
       "      <td>-23.06</td>\n",
       "      <td>22.99</td>\n",
       "      <td>48.54</td>\n",
       "      <td>13.00</td>\n",
       "    </tr>\n",
       "    <tr>\n",
       "      <th>TRANSPORTATION &amp; LOGISTICS</th>\n",
       "      <th></th>\n",
       "      <td>NaN</td>\n",
       "      <td>NaN</td>\n",
       "      <td>-24.71</td>\n",
       "      <td>11.38</td>\n",
       "      <td>66.68</td>\n",
       "      <td>10.17</td>\n",
       "    </tr>\n",
       "    <tr>\n",
       "      <th>UTILITIES</th>\n",
       "      <th></th>\n",
       "      <td>NaN</td>\n",
       "      <td>NaN</td>\n",
       "      <td>-12.23</td>\n",
       "      <td>13.01</td>\n",
       "      <td>-34.18</td>\n",
       "      <td>-5.06</td>\n",
       "    </tr>\n",
       "  </tbody>\n",
       "</table>\n",
       "</div>"
      ],
      "text/plain": [
       "date                              2016   2017    2018   2019    2020   2021\n",
       "CONSTRUCTION                      9.36  20.15 -121.49  47.40  -74.35 -11.99\n",
       "CONSUMER PRODUCTS & SERVICES     -7.98  12.28  -17.22 -11.01  -41.12   7.06\n",
       "ENERGY                             NaN    NaN  -49.93  55.33 -151.34  22.80\n",
       "FBMKLCI                          -7.00   9.86  -15.89 -11.57   38.11  -5.08\n",
       "FINANCIAL SERVICES               -7.73  18.19  -13.33 -19.72   47.41  -5.49\n",
       "HEALTH CARE                        NaN    NaN    7.83  -7.58  290.06 -17.17\n",
       "INDUSTRIAL PRODUCTS & SERVICES   -8.84  21.40  -13.88 -17.13   93.39  10.86\n",
       "PLANTATION                       -8.58  -5.98  -25.43  20.04  -41.18  -5.43\n",
       "PROPERTY                         -8.67  17.72  -44.75 -29.02  -67.95  -8.93\n",
       "REIT                               NaN   8.29  -15.53   9.66  -25.63  -4.85\n",
       "TECHNOLOGY                       13.95  89.36  -57.92  39.80  192.82  36.18\n",
       "TELECOMMUNICATIONS & MEDIA         NaN    NaN  -23.06  22.99   48.54  13.00\n",
       "TRANSPORTATION & LOGISTICS         NaN    NaN  -24.71  11.38   66.68  10.17\n",
       "UTILITIES                          NaN    NaN  -12.23  13.01  -34.18  -5.06"
      ]
     },
     "execution_count": 6,
     "metadata": {},
     "output_type": "execute_result"
    }
   ],
   "source": [
    "annual_returns = pd.concat([calculate_annual_index_return(df) for df in dfs],\n",
    "          axis = 1)\n",
    "\n",
    "annual_returns.T"
   ]
  },
  {
   "cell_type": "code",
   "execution_count": 7,
   "id": "narrow-publicity",
   "metadata": {},
   "outputs": [
    {
     "data": {
      "text/plain": [
       "<AxesSubplot:xlabel='date'>"
      ]
     },
     "execution_count": 7,
     "metadata": {},
     "output_type": "execute_result"
    },
    {
     "data": {
      "image/png": "[encoded data removed]",
      "text/plain": [
       "<Figure size 432x288 with 1 Axes>"
      ]
     },
     "metadata": {
      "needs_background": "light"
     },
     "output_type": "display_data"
    }
   ],
   "source": [
    "extract_index(\"TECHNOLOGY\").loc['2018':'2019']['close'].plot()"
   ]
  }
 ],
 "metadata": {
  "kernelspec": {
   "display_name": "Python 3",
   "language": "python",
   "name": "python3"
  },
  "language_info": {
   "codemirror_mode": {
    "name": "ipython",
    "version": 3
   },
   "file_extension": ".py",
   "mimetype": "text/x-python",
   "name": "python",
   "nbconvert_exporter": "python",
   "pygments_lexer": "ipython3",
   "version": "3.9.2"
  }
 },
 "nbformat": 4,
 "nbformat_minor": 5
}
