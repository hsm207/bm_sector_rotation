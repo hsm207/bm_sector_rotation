{
 "cells": [
  {
   "cell_type": "markdown",
   "id": "material-fifth",
   "metadata": {},
   "source": [
    "# Introduction\n",
    "\n",
    "Gets the data for all indices."
   ]
  },
  {
   "cell_type": "markdown",
   "id": "vietnamese-literacy",
   "metadata": {},
   "source": [
    "# Setup "
   ]
  },
  {
   "cell_type": "code",
   "execution_count": 2,
   "id": "completed-beaver",
   "metadata": {},
   "outputs": [
    {
     "name": "stdout",
     "output_type": "stream",
     "text": [
      "/workspaces/bm_sector_rotation\n"
     ]
    }
   ],
   "source": [
    "%cd .."
   ]
  },
  {
   "cell_type": "markdown",
   "id": "round-australia",
   "metadata": {},
   "source": [
    "# Libraries"
   ]
  },
  {
   "cell_type": "code",
   "execution_count": 3,
   "id": "departmental-lighter",
   "metadata": {},
   "outputs": [],
   "source": [
    "from bfinance import Index\n",
    "import time"
   ]
  },
  {
   "cell_type": "markdown",
   "id": "plastic-bloom",
   "metadata": {},
   "source": [
    "# Data"
   ]
  },
  {
   "cell_type": "markdown",
   "id": "lasting-candidate",
   "metadata": {},
   "source": [
    "Download historical prices for some indices (ref: [here](https://www.bursamalaysia.com/market_information/indices_prices)):"
   ]
  },
  {
   "cell_type": "code",
   "execution_count": 4,
   "id": "lasting-nevada",
   "metadata": {},
   "outputs": [
    {
     "data": {
      "text/plain": [
       "14"
      ]
     },
     "execution_count": 4,
     "metadata": {},
     "output_type": "execute_result"
    }
   ],
   "source": [
    "indices = ['0065I', '0064I', '0063I', '0005I', '0050I', '0020I', '0025I', '0002I', '0062I', '0010I', '0061I', '0001I', '0003I', '0200I']\n",
    "len(indices)"
   ]
  },
  {
   "cell_type": "code",
   "execution_count": 5,
   "id": "advised-victory",
   "metadata": {},
   "outputs": [],
   "source": [
    "def download_data(stock_code):\n",
    "    time.sleep(3)\n",
    "    return Index(stock_code).historical_prices"
   ]
  },
  {
   "cell_type": "code",
   "execution_count": 6,
   "id": "tight-approach",
   "metadata": {},
   "outputs": [
    {
     "name": "stdout",
     "output_type": "stream",
     "text": [
      "CPU times: user 1.21 s, sys: 147 ms, total: 1.35 s\n",
      "Wall time: 53.4 s\n"
     ]
    }
   ],
   "source": [
    "%%time\n",
    "data = [download_data(i) for i in indices]"
   ]
  },
  {
   "cell_type": "markdown",
   "id": "welcome-supplier",
   "metadata": {},
   "source": [
    "# Save"
   ]
  },
  {
   "cell_type": "markdown",
   "id": "stock-forward",
   "metadata": {},
   "source": [
    "Save the results:"
   ]
  },
  {
   "cell_type": "code",
   "execution_count": 7,
   "id": "discrete-multimedia",
   "metadata": {},
   "outputs": [],
   "source": [
    "def save_data(df):\n",
    "    index_name = df['name'][0]\n",
    "    df.to_parquet(f'./data/{index_name}.parquet')"
   ]
  },
  {
   "cell_type": "code",
   "execution_count": 8,
   "id": "guided-campus",
   "metadata": {},
   "outputs": [],
   "source": [
    "for d in data:\n",
    "    save_data(d)"
   ]
  }
 ],
 "metadata": {
  "kernelspec": {
   "display_name": "Python 3",
   "language": "python",
   "name": "python3"
  },
  "language_info": {
   "codemirror_mode": {
    "name": "ipython",
    "version": 3
   },
   "file_extension": ".py",
   "mimetype": "text/x-python",
   "name": "python",
   "nbconvert_exporter": "python",
   "pygments_lexer": "ipython3",
   "version": "3.9.2"
  }
 },
 "nbformat": 4,
 "nbformat_minor": 5
}
